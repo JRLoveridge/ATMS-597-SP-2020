{
  "nbformat": 4,
  "nbformat_minor": 0,
  "metadata": {
    "colab": {
      "name": "Project1.ipynb",
      "provenance": [],
      "include_colab_link": true
    },
    "kernelspec": {
      "name": "python3",
      "display_name": "Python 3"
    }
  },
  "cells": [
    {
      "cell_type": "markdown",
      "metadata": {
        "id": "view-in-github",
        "colab_type": "text"
      },
      "source": [
        "<a href=\"https://colab.research.google.com/github/JRLoveridge/ATMS-597-SP-2020/blob/master/ATMS-597-SP-2020-Project-1/Project1.ipynb\" target=\"_parent\"><img src=\"https://colab.research.google.com/assets/colab-badge.svg\" alt=\"Open In Colab\"/></a>"
      ]
    },
    {
      "cell_type": "code",
      "metadata": {
        "id": "lMo0Zh-UQPDq",
        "colab_type": "code",
        "colab": {}
      },
      "source": [
        "import numpy as np\n",
        "\n",
        "class TemperatureConverter(object):\n",
        "    \"\"\"\n",
        "    A temperature converter that converts temperatures interchangeably between degrees Celsius, Fahrenheit, and Kelvin.\n",
        "    Works with lists or numpy arrays as input, and returns the same numerical type.\n",
        "    \"\"\"\n",
        "    def __init__(self, temperature, units='Kelvin'):\n",
        "        \"\"\"\n",
        "        TODO\n",
        "        \"\"\"\n",
        "        assert units in ['Fahrenheit', 'Celsius', 'Kelvin'], 'Units must be valid.'\n",
        "        self._temperature = np.atleast_1d(temperature) #internally store numpy array.\n",
        "        self._units = units\n",
        "        if type(temperature) == int:\n",
        "            temperature = float(temperature)\n",
        "        self._input_type = type(temperature) #preserve old input type/dtype\n",
        "\n",
        "    def set_temperature(self, temperature, units='Kelvin'):\n",
        "        \"\"\"\n",
        "        TODO\n",
        "        \"\"\"\n",
        "        assert units in ['Fahrenheit', 'Celsius', 'Kelvin'], 'Units must be valid.'\n",
        "        self._temperature = np.atleast_1d(temperature)\n",
        "        self._units = units\n",
        "        if type(temperature) == int:\n",
        "            temperature = float(temperature)\n",
        "        self._input_type = type(temperature) #preserve old input type/dtype\n",
        "\n",
        "    def get_temperature(self, units='Kelvin'):\n",
        "        \"\"\"\n",
        "        TODO\n",
        "        \"\"\"\n",
        "        assert units in ['Fahrenheit', 'Celsius', 'Kelvin'], 'Units must be valid.'     \n",
        "\n",
        "        if units == 'Fahrenheit':\n",
        "          converted_temp =  self.to_fahrenheit()\n",
        "        elif units == 'Celsius':\n",
        "          converted_temp =  self.to_celsius()\n",
        "        elif units == 'Kelvin':\n",
        "          converted_temp =  self.to_kelvin()\n",
        "\n",
        "        if self._input_type != type(converted_temp):\n",
        "          final_output = self._input_type(converted_temp)\n",
        "        else:\n",
        "          final_output = converted_temp\n",
        "\n",
        "        return final_output\n",
        "\n",
        "    def to_kelvin(self):\n",
        "        \"\"\"\n",
        "        Converts a temperature of any unit to Kelvin.\n",
        "        \"\"\"\n",
        "        if self._units == 'Fahrenheit':\n",
        "            returned_temperature = (self._temperature + 459.67)*(5/9)\n",
        "        elif self._units == 'Celsius':\n",
        "            returned_temperature = self._temperature + 273.15\n",
        "        else:\n",
        "            returned_temperature = self._temperature\n",
        "\n",
        "\n",
        "        return returned_temperature\n",
        "  \n",
        "    def to_celsius(self):\n",
        "        \"\"\"\n",
        "        Converts a temperature of any unit to Celsius.\n",
        "        \"\"\"\n",
        "\n",
        "        if self._units == 'Fahrenheit':\n",
        "            returned_temperature = (self._temperature - 32) * (5/9)\n",
        "        elif self._units == 'Kelvin':\n",
        "            returned_temperature = self._temperature - 273.15\n",
        "        else:\n",
        "            returned_temperature = self._temperature\n",
        "\n",
        "        return returned_temperature\n",
        "\n",
        "    def to_fahrenheit(self):\n",
        "        \"\"\"\n",
        "        Converts a temperature of any unit to Fahrenheit.\n",
        "        \"\"\"\n",
        "\n",
        "        if self._units == 'Celsius':\n",
        "            returned_temperature = self._temperature*(9/5) + 32\n",
        "        elif self._units == 'Kelvin':\n",
        "            returned_temperature = self._temperature*(9/5) - 459.67\n",
        "        else:    \n",
        "            returned_temperature = self._temperature\n",
        "\n",
        "        return returned_temperature\n",
        "\n"
      ],
      "execution_count": 0,
      "outputs": []
    },
    {
      "cell_type": "code",
      "metadata": {
        "id": "GOwzsB9kUQAz",
        "colab_type": "code",
        "colab": {}
      },
      "source": [
        "\n",
        "# define a 'TemperatureConverter' object with some temperature data and its units\n",
        "temp_conv = TemperatureConverter([50,60.0,12830.0],units='Celsius')\n",
        "\n",
        "# get temperature in new units using the 'get_temperature' method.\n",
        "new_temp = temp_conv.get_temperature(units='Kelvin')"
      ],
      "execution_count": 0,
      "outputs": []
    },
    {
      "cell_type": "code",
      "metadata": {
        "id": "Pr-Wgp5eU7aA",
        "colab_type": "code",
        "outputId": "eac3435c-a681-419e-92e5-927ac3743de9",
        "colab": {
          "base_uri": "https://localhost:8080/",
          "height": 34
        }
      },
      "source": [
        "new_temp"
      ],
      "execution_count": 5,
      "outputs": [
        {
          "output_type": "execute_result",
          "data": {
            "text/plain": [
              "[323.15, 333.15, 13103.15]"
            ]
          },
          "metadata": {
            "tags": []
          },
          "execution_count": 5
        }
      ]
    },
    {
      "cell_type": "code",
      "metadata": {
        "id": "oXuD_1-rgmVM",
        "colab_type": "code",
        "outputId": "67c2bbe8-b5a8-46a2-d6d7-7d4ce65f0ca3",
        "colab": {
          "base_uri": "https://localhost:8080/",
          "height": 34
        }
      },
      "source": [
        "b"
      ],
      "execution_count": 0,
      "outputs": [
        {
          "output_type": "execute_result",
          "data": {
            "text/plain": [
              "[50.0, 60.0, 12830.0]"
            ]
          },
          "metadata": {
            "tags": []
          },
          "execution_count": 16
        }
      ]
    },
    {
      "cell_type": "code",
      "metadata": {
        "id": "S8Tyt9hsmnfQ",
        "colab_type": "code",
        "colab": {}
      },
      "source": [
        ""
      ],
      "execution_count": 0,
      "outputs": []
    }
  ]
}