{
  "nbformat": 4,
  "nbformat_minor": 0,
  "metadata": {
    "colab": {
      "name": "Project1.ipynb",
      "provenance": [],
      "include_colab_link": true
    },
    "kernelspec": {
      "name": "python3",
      "display_name": "Python 3"
    }
  },
  "cells": [
    {
      "cell_type": "markdown",
      "metadata": {
        "id": "view-in-github",
        "colab_type": "text"
      },
      "source": [
        "<a href=\"https://colab.research.google.com/github/JRLoveridge/ATMS-597-SP-2020/blob/master/ATMS-597-SP-2020-Project-1/Project1.ipynb\" target=\"_parent\"><img src=\"https://colab.research.google.com/assets/colab-badge.svg\" alt=\"Open In Colab\"/></a>"
      ]
    },
    {
      "cell_type": "markdown",
      "metadata": {
        "id": "RvNloe8bevR8",
        "colab_type": "text"
      },
      "source": [
        "# **ATMS 597 SN Weather and Climate Data Sciencet**"
      ]
    },
    {
      "cell_type": "markdown",
      "metadata": {
        "id": "RFZrvQfne4GD",
        "colab_type": "text"
      },
      "source": [
        "<h1>Module 1: Project</h1>\n",
        "\n",
        "<h2>Part A: Convert temperatures interchangeably between degree Celsius, Farenheit and Kelvin </h2>\n",
        "<h3>Group H: Jesse Loveridge, Lina Rivelli-Zea, Xinchang Li</h3>"
      ]
    },
    {
      "cell_type": "code",
      "metadata": {
        "id": "oWC1dyfkgDUR",
        "colab_type": "code",
        "colab": {
          "base_uri": "https://localhost:8080/",
          "height": 34
        },
        "outputId": "684d2fb5-fd45-4e9f-a030-be262266718c"
      },
      "source": [
        "# Mount your Google Drive folder\n",
        "\n",
        "from google.colab import drive\n",
        "\n",
        "drive.mount('/content/drive')"
      ],
      "execution_count": 9,
      "outputs": [
        {
          "output_type": "stream",
          "text": [
            "Drive already mounted at /content/drive; to attempt to forcibly remount, call drive.mount(\"/content/drive\", force_remount=True).\n"
          ],
          "name": "stdout"
        }
      ]
    },
    {
      "cell_type": "code",
      "metadata": {
        "id": "FRGLRb2lenbr",
        "colab_type": "code",
        "colab": {}
      },
      "source": [
        "import numpy as np\n",
        "\n",
        "class TemperatureConverter(object):\n",
        "      \"\"\"\n",
        "      Method to convert temperature interchangeably between \n",
        "      Farenheit, Celsius, and Kelvin. \n",
        "      Works with lists or numpy arrays as inputs, and returns \n",
        "      the same numerical type.\n",
        "      J.Loveridge/L.RZ/X.Li 01.29.20\n",
        "      \n",
        "      \"\"\"\n",
        "\n",
        "    def __init__(self, temperature, units='Kelvin'):\n",
        "        \"\"\"function to create the object and initialize with defaults.\n",
        "\n",
        "        Inputs:\n",
        "        units = in Farenheit, Celsius or Kelvin #type: str\n",
        "\n",
        "        \"\"\"\n",
        "        assert units in ['Fahrenheit', 'Celsius', 'Kelvin'], 'Units must be valid.'\n",
        "        self._temperature = np.atleast_1d(temperature) #internally store numpy array.\n",
        "        self._units = units\n",
        "        if type(temperature) == int:\n",
        "            temperature = float(temperature)\n",
        "        self._input_type = type(temperature) #preserve old input type/dtype\n",
        "\n",
        "    def set_temperature(self, temperature, units='Kelvin'):\n",
        "        \"\"\"function to create the object.\n",
        "\n",
        "        Inputs:\n",
        "        units= in Farenheit, Celsius or Kelvin #type: str\n",
        "\n",
        "        \"\"\"\n",
        "        \n",
        "        assert units in ['Fahrenheit', 'Celsius', 'Kelvin'], 'Units must be valid.'\n",
        "        self._temperature = np.atleast_1d(temperature)\n",
        "        self._units = units\n",
        "        if type(temperature) == int:\n",
        "            temperature = float(temperature)\n",
        "        self._input_type = type(temperature) #preserve old input type/dtype\n",
        "\n",
        "    def get_temperature(self, units='Kelvin'):\n",
        "        \"\"\"function to get the units of the object.\n",
        "\n",
        "        Inputs:\n",
        "        units= in Farenheit, Celsius or Kelvin #type: str\n",
        "\n",
        "        Outputs:\n",
        "        final_output= in Farenheit, Celsius or Kelvin #type: str\n",
        "\n",
        "        \"\"\"\n",
        "        assert units in ['Fahrenheit', 'Celsius', 'Kelvin'], 'Units must be valid.'     \n",
        "\n",
        "        if units == 'Fahrenheit':\n",
        "          converted_temp =  self.to_fahrenheit()\n",
        "        elif units == 'Celsius':\n",
        "          converted_temp =  self.to_celsius()\n",
        "        elif units == 'Kelvin':\n",
        "          converted_temp =  self.to_kelvin()\n",
        "\n",
        "        if self._input_type != type(converted_temp):\n",
        "          final_output = self._input_type(converted_temp)\n",
        "        else:\n",
        "          final_output = converted_temp\n",
        "\n",
        "        return final_output\n",
        "\n",
        "    def to_kelvin(self):\n",
        "        \"\"\"internal function to convert a temperature of any units to Kelvin.\n",
        "\n",
        "        Inputs:\n",
        "        units= in Farenheit, Celsius or Kelvin #type: str\n",
        "\n",
        "        Outputs:\n",
        "        returned_temperature= in  Kelvin #type: float, int, or list\n",
        "\n",
        "        \"\"\"\n",
        "\n",
        "        if self._units == 'Fahrenheit':\n",
        "            returned_temperature = None\n",
        "        elif self._units == 'Celsius':\n",
        "            returned_temperature = None\n",
        "        else:\n",
        "            returned_temperature = self._temperature\n",
        "\n",
        "        return returned_temperature\n",
        "  \n",
        "    def to_celsius(self):\n",
        "         \"\"\"internal function to convert a temperature of any units to Celsius.\n",
        "\n",
        "        Inputs:\n",
        "        units= in Farenheit, Celsius or Kelvin #type: str\n",
        "\n",
        "        Outputs:\n",
        "        returned_temperature= in  Celsius #type: float, int, or list\n",
        "\n",
        "        \"\"\"\n",
        "\n",
        "        if self._units == 'Fahrenheit':\n",
        "            returned_temperature = None\n",
        "        elif self._units == 'Kelvin':\n",
        "            returned_temperature = None\n",
        "        else:\n",
        "            returned_temperature = self._temperature\n",
        "\n",
        "        return returned_temperature\n",
        "\n",
        "    def to_fahrenheit(self):\n",
        "       \"\"\"internal function to convert a temperature of any units to Farenheit.\n",
        "\n",
        "        Inputs:\n",
        "        units= in Farenheit, Celsius or Kelvin #type: str\n",
        "\n",
        "        Outputs:\n",
        "        returned_temperature= in  Farenheit #type: float, int, or list\n",
        "\n",
        "        \"\"\"\n",
        "\n",
        "        if self._units == 'Celsius':\n",
        "            returned_temperature = None\n",
        "        elif self._units == 'Kelvin':\n",
        "            returned_temperature = None\n",
        "        else:    \n",
        "            returned_temperature = self._temperature\n",
        "\n",
        "        return returned_temperature\n"
      ],
      "execution_count": 0,
      "outputs": []
    },
    {
      "cell_type": "code",
      "metadata": {
        "id": "GOwzsB9kUQAz",
        "colab_type": "code",
        "colab": {}
      },
      "source": [
        "# define a 'TemperatureConverter' object with temperature data and its units\n",
        "temp_conv = TemperatureConverter([50,60.0,12830.0],units='Celsius')"
      ],
      "execution_count": 0,
      "outputs": []
    },
    {
      "cell_type": "code",
      "metadata": {
        "id": "Kcw221gQU_z2",
        "colab_type": "code",
        "outputId": "8692db51-d167-4123-ad8c-2b150c1895cc",
        "colab": {
          "base_uri": "https://localhost:8080/",
          "height": 283
        }
      },
      "source": [
        "# get temperature in new units using the 'get_temperature' method.\n",
        "new_temp = temp_conv.get_temperature(units='Kelvin')"
      ],
      "execution_count": 16,
      "outputs": [
        {
          "output_type": "error",
          "ename": "TypeError",
          "evalue": "ignored",
          "traceback": [
            "\u001b[0;31m---------------------------------------------------------------------------\u001b[0m",
            "\u001b[0;31mTypeError\u001b[0m                                 Traceback (most recent call last)",
            "\u001b[0;32m<ipython-input-16-d4f195ccdf76>\u001b[0m in \u001b[0;36m<module>\u001b[0;34m()\u001b[0m\n\u001b[0;32m----> 1\u001b[0;31m \u001b[0mnew_temp\u001b[0m \u001b[0;34m=\u001b[0m \u001b[0mtemp_conv\u001b[0m\u001b[0;34m.\u001b[0m\u001b[0mget_temperature\u001b[0m\u001b[0;34m(\u001b[0m\u001b[0munits\u001b[0m\u001b[0;34m=\u001b[0m\u001b[0;34m'Kelvin'\u001b[0m\u001b[0;34m)\u001b[0m\u001b[0;34m\u001b[0m\u001b[0;34m\u001b[0m\u001b[0m\n\u001b[0m",
            "\u001b[0;32m<ipython-input-6-3c0f8d4fe47b>\u001b[0m in \u001b[0;36mget_temperature\u001b[0;34m(self, units)\u001b[0m\n\u001b[1;32m     46\u001b[0m \u001b[0;34m\u001b[0m\u001b[0m\n\u001b[1;32m     47\u001b[0m         \u001b[0;32mif\u001b[0m \u001b[0mself\u001b[0m\u001b[0;34m.\u001b[0m\u001b[0m_input_type\u001b[0m \u001b[0;34m!=\u001b[0m \u001b[0mtype\u001b[0m\u001b[0;34m(\u001b[0m\u001b[0mconverted_temp\u001b[0m\u001b[0;34m)\u001b[0m\u001b[0;34m:\u001b[0m\u001b[0;34m\u001b[0m\u001b[0;34m\u001b[0m\u001b[0m\n\u001b[0;32m---> 48\u001b[0;31m           \u001b[0mfinal_output\u001b[0m \u001b[0;34m=\u001b[0m \u001b[0mself\u001b[0m\u001b[0;34m.\u001b[0m\u001b[0m_input_type\u001b[0m\u001b[0;34m(\u001b[0m\u001b[0mconverted_temp\u001b[0m\u001b[0;34m)\u001b[0m\u001b[0;34m\u001b[0m\u001b[0;34m\u001b[0m\u001b[0m\n\u001b[0m\u001b[1;32m     49\u001b[0m         \u001b[0;32melse\u001b[0m\u001b[0;34m:\u001b[0m\u001b[0;34m\u001b[0m\u001b[0;34m\u001b[0m\u001b[0m\n\u001b[1;32m     50\u001b[0m           \u001b[0mfinal_output\u001b[0m \u001b[0;34m=\u001b[0m \u001b[0mconverted_temp\u001b[0m\u001b[0;34m\u001b[0m\u001b[0;34m\u001b[0m\u001b[0m\n",
            "\u001b[0;31mTypeError\u001b[0m: 'NoneType' object is not iterable"
          ]
        }
      ]
    },
    {
      "cell_type": "code",
      "metadata": {
        "id": "1EKZsjl3VCNz",
        "colab_type": "code",
        "colab": {}
      },
      "source": [
        ""
      ],
      "execution_count": 0,
      "outputs": []
    }
  ]
}