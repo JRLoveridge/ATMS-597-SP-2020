{
  "nbformat": 4,
  "nbformat_minor": 0,
  "metadata": {
    "colab": {
      "name": "Project1.ipynb",
      "provenance": [],
      "authorship_tag": "ABX9TyPL5/gZZjlrNdx1UEhm8E60",
      "include_colab_link": true
    },
    "kernelspec": {
      "name": "python3",
      "display_name": "Python 3"
    }
  },
  "cells": [
    {
      "cell_type": "markdown",
      "metadata": {
        "id": "view-in-github",
        "colab_type": "text"
      },
      "source": [
        "<a href=\"https://colab.research.google.com/github/JRLoveridge/ATMS-597-SP-2020/blob/master/ATMS-597-SP-2020-Project-1/Project1.ipynb\" target=\"_parent\"><img src=\"https://colab.research.google.com/assets/colab-badge.svg\" alt=\"Open In Colab\"/></a>"
      ]
    },
    {
      "cell_type": "code",
      "metadata": {
        "id": "lMo0Zh-UQPDq",
        "colab_type": "code",
        "colab": {}
      },
      "source": [
        "import numpy as np\n",
        "\n",
        "class TemperatureConverter(object):\n",
        "    \"\"\"\n",
        "    TODO\n",
        "    \"\"\"\n",
        "    def __init__(self, temperature, units='Kelvin'):\n",
        "        \"\"\"\n",
        "        TODO\n",
        "        \"\"\"\n",
        "        assert units in ['Fahrenheit', 'Celsius', 'Kelvin'], 'Units must be valid.'\n",
        "        self._temperature = np.atleast_1d(temperature) #internally store numpy array.\n",
        "        self._units = units\n",
        "        if type(temperature) == int:\n",
        "            temperature = float(temperature)\n",
        "        self._input_type = type(temperature) #preserve old input type/dtype\n",
        "\n",
        "    @staticmethod\n",
        "    def convert_temperature(temperature, in_units='Kelvin', out_units='Kelvin'):\n",
        "      \"\"\"\n",
        "      Option to write the whole thing without storing any information in the object.\n",
        "      \"\"\"\n",
        "\n",
        "    def set_temperature(self, temperature, units='Kelvin'):\n",
        "        \"\"\"\n",
        "        TODO\n",
        "        \"\"\"\n",
        "        assert units in ['Fahrenheit', 'Celsius', 'Kelvin'], 'Units must be valid.'\n",
        "        self._temperature = np.atleast_1d(temperature)\n",
        "        self._units = units\n",
        "        if type(temperature) == int:\n",
        "            temperature = float(temperature)\n",
        "        self._input_type = type(temperature) #preserve old input type/dtype\n",
        "\n",
        "    def get_temperature(self, units='Kelvin'):\n",
        "        \"\"\"\n",
        "        TODO\n",
        "        \"\"\"\n",
        "        assert units in ['Fahrenheit', 'Celsius', 'Kelvin'], 'Units must be valid.'     \n",
        "\n",
        "        if units == 'Fahrenheit':\n",
        "          converted_temp =  self.to_fahrenheit()\n",
        "        elif units == 'Celsius':\n",
        "          converted_temp =  self.to_celsius()\n",
        "        elif units == 'Kelvin':\n",
        "          converted_temp =  self.to_kelvin()\n",
        "\n",
        "        if self._input_type != type(converted_temp):\n",
        "          final_output = self._input_type(converted_temp)\n",
        "        else:\n",
        "          final_output = converted_temp\n",
        "\n",
        "        return final_output\n",
        "\n",
        "    def to_kelvin(self):\n",
        "        \"\"\"\n",
        "        TODO\n",
        "        \"\"\"\n",
        "        if self._units == 'Fahrenheit':\n",
        "            returned_temperature = None\n",
        "        elif self._units == 'Celsius':\n",
        "            returned_temperature = None\n",
        "        else:\n",
        "            returned_temperature = self._temperature\n",
        "\n",
        "\n",
        "        return returned_temperature\n",
        "  \n",
        "    def to_celsius(self):\n",
        "        \"\"\"\n",
        "        TODO\n",
        "        \"\"\"\n",
        "\n",
        "        if self._units == 'Fahrenheit':\n",
        "            returned_temperature = None\n",
        "        elif self._units == 'Kelvin':\n",
        "            returned_temperature = None\n",
        "        else:\n",
        "            returned_temperature = self._temperature\n",
        "\n",
        "        return returned_temperature\n",
        "\n",
        "    def to_fahrenheit(self):\n",
        "        \"\"\"\n",
        "        TODO\n",
        "        \"\"\"\n",
        "\n",
        "        if self._units == 'Celsius':\n",
        "            returned_temperature = None\n",
        "        elif self._units == 'Kelvin':\n",
        "            returned_temperature = None\n",
        "        else:    \n",
        "            returned_temperature = self._temperature\n",
        "\n",
        "        return returned_temperature\n",
        "\n"
      ],
      "execution_count": 0,
      "outputs": []
    },
    {
      "cell_type": "code",
      "metadata": {
        "id": "GOwzsB9kUQAz",
        "colab_type": "code",
        "colab": {}
      },
      "source": [
        "temperature_converter = TemperatureConverter([50,60.0,12830.0],units='Celsius')"
      ],
      "execution_count": 0,
      "outputs": []
    },
    {
      "cell_type": "code",
      "metadata": {
        "id": "Pr-Wgp5eU7aA",
        "colab_type": "code",
        "colab": {}
      },
      "source": [
        "a = temperature_converter.convert_temperature(units='Kelvin')"
      ],
      "execution_count": 0,
      "outputs": []
    },
    {
      "cell_type": "code",
      "metadata": {
        "id": "Kcw221gQU_z2",
        "colab_type": "code",
        "outputId": "47d25599-28dd-48f4-e09b-7439af31ff89",
        "colab": {
          "base_uri": "https://localhost:8080/",
          "height": 34
        }
      },
      "source": [
        "a"
      ],
      "execution_count": 0,
      "outputs": [
        {
          "output_type": "execute_result",
          "data": {
            "text/plain": [
              "[50.0, 60.0, 12830.0]"
            ]
          },
          "metadata": {
            "tags": []
          },
          "execution_count": 77
        }
      ]
    },
    {
      "cell_type": "code",
      "metadata": {
        "id": "1EKZsjl3VCNz",
        "colab_type": "code",
        "colab": {}
      },
      "source": [
        ""
      ],
      "execution_count": 0,
      "outputs": []
    }
  ]
}